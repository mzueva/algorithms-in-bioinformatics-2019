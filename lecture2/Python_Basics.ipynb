{
 "cells": [
  {
   "cell_type": "code",
   "execution_count": null,
   "metadata": {},
   "outputs": [],
   "source": [
    "# Declare a sring variable\n",
    "string = \"ACGT\""
   ]
  },
  {
   "cell_type": "code",
   "execution_count": null,
   "metadata": {},
   "outputs": [],
   "source": [
    "# Print string\n",
    "print(string)"
   ]
  },
  {
   "cell_type": "code",
   "execution_count": null,
   "metadata": {},
   "outputs": [],
   "source": [
    "# Iterate over a string\n",
    "for letter in string:\n",
    "    print(letter)"
   ]
  },
  {
   "cell_type": "code",
   "execution_count": null,
   "metadata": {},
   "outputs": [],
   "source": [
    "# Get letter by index:\n",
    "for i in range(0, len(string) - 1):\n",
    "    print(\"Letter at index %d is %s\" % (i, string[i]))"
   ]
  },
  {
   "cell_type": "code",
   "execution_count": null,
   "metadata": {},
   "outputs": [],
   "source": [
    "# Check if string contains substring\n",
    "# Not found\n",
    "index = string.find(\"F\")\n",
    "print(index)\n",
    "\n",
    "#Found\n",
    "index = string.find(\"C\")\n",
    "print(index)"
   ]
  },
  {
   "cell_type": "code",
   "execution_count": null,
   "metadata": {},
   "outputs": [],
   "source": [
    "# Get part of string\n",
    "# prefix\n",
    "print(string[0:1])\n",
    "print(string[:2])\n",
    "#suffix\n",
    "print(string[3:])\n",
    "print(string[:-1])\n",
    "print(string[-2:])"
   ]
  },
  {
   "cell_type": "code",
   "execution_count": null,
   "metadata": {},
   "outputs": [],
   "source": [
    "# String concatenation\n",
    "result = string + \"TGCA\"\n",
    "print(result)"
   ]
  },
  {
   "cell_type": "code",
   "execution_count": null,
   "metadata": {},
   "outputs": [],
   "source": [
    "# Create new string\n",
    "letters = ['A', 'C', 'G', 'T']\n",
    "build = ''.join(letters)\n",
    "print(build)"
   ]
  },
  {
   "cell_type": "code",
   "execution_count": null,
   "metadata": {},
   "outputs": [],
   "source": [
    "# Compare strings\n",
    "if build == string:\n",
    "    print(\"Strings '%s' and '%s' match\" % (build, string))\n",
    "\n",
    "letter = 'A'\n",
    "if letter != string:\n",
    "    print(\"'%s' and '%s' doesn't match\" % (letter, string))"
   ]
  },
  {
   "cell_type": "code",
   "execution_count": null,
   "metadata": {},
   "outputs": [],
   "source": [
    "# Generate random string\n",
    "import random\n",
    "length = 15\n",
    "genome = ''\n",
    "for _ in range(0, 15):\n",
    "    genome += random.choice(letters)\n",
    "print(\"Generated new genome: %s\" % genome)    "
   ]
  },
  {
   "cell_type": "code",
   "execution_count": null,
   "metadata": {},
   "outputs": [],
   "source": [
    "complementary_nucleotides = {'A': 'T', 'C': 'G', 'G': 'C', 'T': 'A'}\n",
    "print(complementary_nucleotides['A'])\n",
    "print(complementary_nucleotides['C'])\n",
    "print(complementary_nucleotides['G'])\n",
    "print(complementary_nucleotides['T'])"
   ]
  },
  {
   "cell_type": "code",
   "execution_count": null,
   "metadata": {},
   "outputs": [],
   "source": [
    "# Reverse complement\n",
    "def reverse_complement(genome):\n",
    "    result = ''\n",
    "    for i in range(len(genome) - 1, -1, -1):\n",
    "        result += complementary_nucleotides[genome[i]]\n",
    "    return result\n",
    "\n",
    "print(reverse_complement(genome))\n"
   ]
  },
  {
   "cell_type": "code",
   "execution_count": null,
   "metadata": {},
   "outputs": [],
   "source": [
    "# Longest common prefix\n",
    "def longest_common_prefix(str1, str2):\n",
    "    index = 0\n",
    "    while index < len(str1) and index < len(str2) and str1[index] == str2[index]:\n",
    "        index += 1\n",
    "        \n",
    "    return str1[:index]\n",
    "\n",
    "print(longest_common_prefix(\"ACGTTT\", \"ACTTT\"))\n",
    "print(longest_common_prefix(\"AAAAAAA\", \"AAAAA\"))"
   ]
  },
  {
   "cell_type": "code",
   "execution_count": null,
   "metadata": {},
   "outputs": [],
   "source": [
    "# String match\n",
    "def match(str1, str2):\n",
    "    if not len(str1) == len(str2):\n",
    "        return False\n",
    "    for i in range(0, len(str1)):\n",
    "        if not str1[i] == str2[i]:\n",
    "            return False\n",
    "    return True\n",
    "print(match(genome, genome))\n",
    "print(match(genome, string))"
   ]
  },
  {
   "cell_type": "code",
   "execution_count": null,
   "metadata": {},
   "outputs": [],
   "source": []
  }
 ],
 "metadata": {
  "kernelspec": {
   "display_name": "Python 3",
   "language": "python",
   "name": "python3"
  },
  "language_info": {
   "codemirror_mode": {
    "name": "ipython",
    "version": 3
   },
   "file_extension": ".py",
   "mimetype": "text/x-python",
   "name": "python",
   "nbconvert_exporter": "python",
   "pygments_lexer": "ipython3",
   "version": "3.6.3"
  }
 },
 "nbformat": 4,
 "nbformat_minor": 2
}
