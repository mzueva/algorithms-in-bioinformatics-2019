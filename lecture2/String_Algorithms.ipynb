{
 "cells": [
  {
   "cell_type": "code",
   "execution_count": null,
   "metadata": {},
   "outputs": [],
   "source": [
    "import random\n",
    "nucleotides = ['A', 'C', 'G', 'T']\n",
    "genome = ''.join([random.choice(nucleotides) for _ in range(0, 50)])\n",
    "print(genome)"
   ]
  },
  {
   "cell_type": "code",
   "execution_count": null,
   "metadata": {},
   "outputs": [],
   "source": [
    "# Pattern Count\n",
    "def pattern_count(text, pattern):\n",
    "    count = 0\n",
    "    pattern_length = len(pattern)\n",
    "    for i in range(0, len(text) - pattern_length):\n",
    "        if text[i:i+pattern_length] == pattern:\n",
    "            count += 1\n",
    "    return count"
   ]
  },
  {
   "cell_type": "code",
   "execution_count": null,
   "metadata": {},
   "outputs": [],
   "source": [
    "print(pattern_count(genome, 'ACA'))"
   ]
  },
  {
   "cell_type": "code",
   "execution_count": null,
   "metadata": {},
   "outputs": [],
   "source": [
    "# Get all kmers \n",
    "def get_kmers(text, size):\n",
    "    kmers = []\n",
    "    for i in range(0, len(text) - size):\n",
    "        kmers.append(text[i: i+size])\n",
    "    return kmers"
   ]
  },
  {
   "cell_type": "code",
   "execution_count": null,
   "metadata": {},
   "outputs": [],
   "source": [
    "print(get_kmers(genome, 3))\n",
    "print(get_kmers(genome, 7))"
   ]
  },
  {
   "cell_type": "code",
   "execution_count": null,
   "metadata": {},
   "outputs": [],
   "source": [
    "def get_most_frequent_kmer(text, size):\n",
    "    frequency = {}\n",
    "    max_freq = 0\n",
    "    for i in range(0, len(text) - size):\n",
    "        kmer = text[i: i+size]\n",
    "        if kmer not in frequency:\n",
    "            frequency[kmer] = 1\n",
    "        else:\n",
    "            frequency[kmer] = frequency[kmer] + 1\n",
    "        if frequency[kmer] > max_freq:\n",
    "            max_freq = frequency[kmer]\n",
    "    print(max_freq)\n",
    "    print(frequency)\n",
    "    result = []\n",
    "    for kmer, count in frequency.items():\n",
    "        if count == max_freq:\n",
    "            result.append(kmer)\n",
    "    return(result)        "
   ]
  },
  {
   "cell_type": "code",
   "execution_count": null,
   "metadata": {},
   "outputs": [],
   "source": [
    "print(get_most_frequent_kmer(genome, 3))"
   ]
  },
  {
   "cell_type": "code",
   "execution_count": null,
   "metadata": {},
   "outputs": [],
   "source": [
    "# Hamming Distance\n",
    "def hamming(str1, str2):\n",
    "    count = 0\n",
    "    for i in range(0, len(str1)):\n",
    "        if str1[i] != str2[i]:\n",
    "            count += 1\n",
    "    return count"
   ]
  },
  {
   "cell_type": "code",
   "execution_count": null,
   "metadata": {},
   "outputs": [],
   "source": [
    "print(hamming('ACGT', 'ACGT'))\n",
    "print(hamming('ACCT', 'ACGG'))"
   ]
  },
  {
   "cell_type": "code",
   "execution_count": null,
   "metadata": {},
   "outputs": [],
   "source": [
    "# Approximate pattern count\n",
    "def approx_pattern_count(text, pattern, error):\n",
    "    count = 0\n",
    "    pattern_length = len(pattern)\n",
    "    for i in range(0, len(text) - pattern_length):\n",
    "        substr = text[i:i+pattern_length]\n",
    "        if hamming(substr, pattern) <= error:\n",
    "            count += 1\n",
    "    return count"
   ]
  },
  {
   "cell_type": "code",
   "execution_count": null,
   "metadata": {},
   "outputs": [],
   "source": [
    "print(approx_pattern_count(genome, 'ACCT', 0))"
   ]
  },
  {
   "cell_type": "code",
   "execution_count": null,
   "metadata": {},
   "outputs": [],
   "source": []
  }
 ],
 "metadata": {
  "kernelspec": {
   "display_name": "Python 3",
   "language": "python",
   "name": "python3"
  },
  "language_info": {
   "codemirror_mode": {
    "name": "ipython",
    "version": 3
   },
   "file_extension": ".py",
   "mimetype": "text/x-python",
   "name": "python",
   "nbconvert_exporter": "python",
   "pygments_lexer": "ipython3",
   "version": "3.6.3"
  }
 },
 "nbformat": 4,
 "nbformat_minor": 2
}
