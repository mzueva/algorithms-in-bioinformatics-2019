{
 "cells": [
  {
   "cell_type": "code",
   "execution_count": 1,
   "metadata": {},
   "outputs": [
    {
     "data": {
      "text/plain": [
       "8"
      ]
     },
     "execution_count": 1,
     "metadata": {},
     "output_type": "execute_result"
    }
   ],
   "source": [
    "# edit distance recursive\n",
    "\n",
    "def edit_recursive(str1, str2):\n",
    "    if len(str1) == 0:\n",
    "        return len(str2)\n",
    "    if len(str2) == 0:\n",
    "        return len(str1)\n",
    "    delta = 0 if str1[-1] == str2[-1] else 2\n",
    "    return min(edit_recursive(str1[:-1], str2[:-1]) + delta, \n",
    "               edit_recursive(str1[:-1], str2) + 1,\n",
    "               edit_recursive(str1, str2[:-1]) + 1)\n",
    "\n",
    "edit_recursive(\"intention\", \"execution\")"
   ]
  },
  {
   "cell_type": "code",
   "execution_count": 3,
   "metadata": {},
   "outputs": [
    {
     "data": {
      "text/plain": [
       "8"
      ]
     },
     "execution_count": 3,
     "metadata": {},
     "output_type": "execute_result"
    }
   ],
   "source": [
    "# edit distance dynamic programming version\n",
    "def edit_dynamic(str1, str2):\n",
    "    n, m = len(str1), len(str2)\n",
    "    current_row = range(n + 1) \n",
    "    for i in range(1, m + 1):\n",
    "        previous_row, current_row = current_row, [i] + [0] * n\n",
    "        for j in range(1,n+1):\n",
    "            add, delete, change = previous_row[j] + 1, current_row[j-1] + 1, previous_row[j-1]\n",
    "            if str1[j-1] != str2[i-1]:\n",
    "                change += 2\n",
    "            current_row[j] = min(add, delete, change)\n",
    "\n",
    "    return current_row[n]\n",
    "edit_dynamic(\"intention\", \"execution\")"
   ]
  },
  {
   "cell_type": "code",
   "execution_count": 18,
   "metadata": {},
   "outputs": [
    {
     "name": "stdout",
     "output_type": "stream",
     "text": [
      "score matrix: \n",
      "[[ 0. -1. -2. -3. -4. -5. -6. -7. -8. -9.]\n",
      " [-1. -1. -2. -3. -4. -5. -6. -5. -6. -7.]\n",
      " [-2. -2. -2. -3. -4. -5. -6. -6. -6. -5.]\n",
      " [-3. -3. -3. -3. -4. -5. -4. -5. -6. -6.]\n",
      " [-4. -2. -3. -2. -3. -4. -5. -5. -6. -7.]\n",
      " [-5. -3. -3. -3. -3. -4. -5. -6. -6. -5.]\n",
      " [-6. -4. -4. -4. -4. -4. -3. -4. -5. -6.]\n",
      " [-7. -5. -5. -5. -5. -5. -4. -2. -3. -4.]\n",
      " [-8. -6. -6. -6. -6. -6. -5. -3. -1. -2.]\n",
      " [-9. -7. -7. -7. -7. -7. -6. -4. -2.  0.]]\n",
      "\n",
      "inte-ntion\n",
      "-execution\n"
     ]
    }
   ],
   "source": [
    "# Needleman-Wunsch Algorithm\n",
    "import numpy as np\n",
    "penalty ={'match': 1, 'mismatch': -1, 'gap': -1}\n",
    "\n",
    "def mch(alpha, beta):\n",
    "    if alpha == beta:\n",
    "        return penalty['match']\n",
    "    else:\n",
    "        return penalty['mismatch']\n",
    "\n",
    "def needle_wunsch(s1, s2):\n",
    "    m, n = len(s1), len(s2)\n",
    "    score = np.zeros((m+1, n+1))\n",
    "    \n",
    "    for i in range(m+1):\n",
    "        score[i][0] = penalty['gap'] * i\n",
    "    for j in range(n+1):\n",
    "        score[0][j] = penalty['gap'] * j\n",
    "\n",
    "    for i in range(1, m + 1):\n",
    "        for j in range(1, n + 1):\n",
    "            diag = score[i-1][j-1] + mch(s1[i-1], s2[j-1])\n",
    "            delete = score[i-1][j] + penalty['gap']\n",
    "            insert = score[i][j-1] + penalty['gap']\n",
    "            score[i][j] = max(diag, delete, insert)\n",
    "\n",
    "    print('score matrix: \\n%s\\n' % score)\n",
    "    align1, align2 = '', ''\n",
    "    i, j = m, n\n",
    "    \n",
    "    while i > 0 and j > 0:\n",
    "        score_current = score[i][j]\n",
    "        score_diag = score[i-1][j-1]\n",
    "        score_left = score[i][j-1]\n",
    "        score_up = score[i-1][j]\n",
    "    \n",
    "        if score_current == score_diag + mch(s1[i-1], s2[j-1]):\n",
    "            a1, a2 = s1[i-1], s2[j-1]\n",
    "            i,j = i-1, j-1\n",
    "        elif score_current == score_up + penalty['gap']:\n",
    "            a1, a2 = s1[i-1], '-'\n",
    "            i -= 1\n",
    "        elif score_current == score_left + penalty['gap']:\n",
    "            a1, a2 = '-', s2[j-1]\n",
    "            j -= 1\n",
    "\n",
    "        align1 += a1\n",
    "        align2 += a2\n",
    "            \n",
    "\n",
    "    while i > 0:\n",
    "        a1, a2 = s1[i-1], '-'\n",
    "        align1 += a1\n",
    "        align2 += a2\n",
    "        i -= 1\n",
    "        \n",
    "    while j > 0:\n",
    "        a1, a2 = '-', s2[j-1]\n",
    "        align1 += a1\n",
    "        align2 += a2\n",
    "        j -= 1\n",
    "\n",
    "    print(align1[::-1])\n",
    "    print(align2[::-1])\n",
    "\n",
    "\n",
    "needle_wunsch(\"intention\",\"execution\")"
   ]
  },
  {
   "cell_type": "code",
   "execution_count": 24,
   "metadata": {},
   "outputs": [
    {
     "data": {
      "text/plain": [
       "[6, 5, 3, 1, 0, 4, 2]"
      ]
     },
     "execution_count": 24,
     "metadata": {},
     "output_type": "execute_result"
    }
   ],
   "source": [
    "def suffix_array(str): \n",
    "     return sorted(range(len(str)), key=lambda i: str[i:]) \n",
    "    \n",
    "suffix_array(\"banana$\")"
   ]
  },
  {
   "cell_type": "code",
   "execution_count": null,
   "metadata": {},
   "outputs": [],
   "source": []
  }
 ],
 "metadata": {
  "kernelspec": {
   "display_name": "Python 3",
   "language": "python",
   "name": "python3"
  },
  "language_info": {
   "codemirror_mode": {
    "name": "ipython",
    "version": 3
   },
   "file_extension": ".py",
   "mimetype": "text/x-python",
   "name": "python",
   "nbconvert_exporter": "python",
   "pygments_lexer": "ipython3",
   "version": "3.6.5"
  }
 },
 "nbformat": 4,
 "nbformat_minor": 2
}
