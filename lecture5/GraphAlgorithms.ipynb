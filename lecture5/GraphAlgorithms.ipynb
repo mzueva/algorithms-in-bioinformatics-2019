{
 "cells": [
  {
   "cell_type": "code",
   "execution_count": 5,
   "metadata": {},
   "outputs": [
    {
     "name": "stdout",
     "output_type": "stream",
     "text": [
      "r1 TAAAAT -> AFFFFD\n",
      "Validating read: r1 TAAAAT -> AFFFFD\n"
     ]
    },
    {
     "data": {
      "text/plain": [
       "True"
      ]
     },
     "execution_count": 5,
     "metadata": {},
     "output_type": "execute_result"
    }
   ],
   "source": [
    "class Read:\n",
    "    def __init__(self, read_name, sequence, quality):\n",
    "        self.read_name = read_name \n",
    "        self.sequence = sequence\n",
    "        self.quality = quality\n",
    "    def __str__(self):\n",
    "        return \"%s %s -> %s\" % (self.read_name, self.sequence, self.quality)\n",
    "    \n",
    "    def length(self):\n",
    "        return len(self.sequence)\n",
    "    \n",
    "    @classmethod\n",
    "    def validate(cls, read):\n",
    "        print(\"Validating read: %s\" % str(read))\n",
    "        return True\n",
    "        \n",
    "r1 = Read(\"r1\", \"TAAAAT\", \"AFFFFD\")  \n",
    "print(str(r1))\n",
    "r1.length()\n",
    "\n",
    "Read.validate(r1)"
   ]
  },
  {
   "cell_type": "code",
   "execution_count": 7,
   "metadata": {},
   "outputs": [],
   "source": [
    "class Vertex:\n",
    "    def __init__(self, key):\n",
    "        self.id = key\n",
    "        self.edges = set()\n",
    "\n",
    "    def addEdge(self, vertex):\n",
    "        self.edges.add(vertex)\n",
    "\n",
    "    def __str__(self):\n",
    "        \n",
    "        return ','.join([self.id + '->' + x.id for x in self.edges])\n",
    "\n",
    "    def getEdges(self):\n",
    "        return self.edges\n",
    "\n",
    "    def getId(self):\n",
    "        return self.id"
   ]
  },
  {
   "cell_type": "code",
   "execution_count": 8,
   "metadata": {},
   "outputs": [
    {
     "data": {
      "text/plain": [
       "'1->3,1->2'"
      ]
     },
     "execution_count": 8,
     "metadata": {},
     "output_type": "execute_result"
    }
   ],
   "source": [
    "v1 = Vertex('1')\n",
    "v2 = Vertex('2')\n",
    "v3 = Vertex('3')\n",
    "v1.addEdge(v2)\n",
    "v1.addEdge(v3)\n",
    "str(v1)"
   ]
  },
  {
   "cell_type": "code",
   "execution_count": 10,
   "metadata": {},
   "outputs": [],
   "source": [
    "class Graph:\n",
    "    def __init__(self):\n",
    "        self.vertices = {}\n",
    "\n",
    "    def addVertex(self, key):\n",
    "        newVertex = Vertex(key)\n",
    "        self.vertices[key] = newVertex\n",
    "        return newVertex\n",
    "\n",
    "    def getVertex(self, n):\n",
    "        if n in self.vertices:\n",
    "            return self.vertices[n]\n",
    "        else:\n",
    "            return None\n",
    "\n",
    "    def __contains__(self, n):\n",
    "        return n in self.vertices\n",
    "\n",
    "    def addEdge(self, edgeFrom, edgeTo):\n",
    "        if edgeFrom not in self.vertices:\n",
    "            self.addVertex(edgeFrom)\n",
    "        if edgeTo not in self.vertices:\n",
    "            self.addVertex(edgeTo)\n",
    "        self.vertices[edgeFrom].addEdge(self.vertices[edgeTo])\n",
    "        self.vertices[edgeTo].addEdge(self.vertices[edgeFrom])\n",
    "\n",
    "    def getVertices(self):\n",
    "        return self.vertices.keys()\n",
    "\n",
    "    def __iter__(self):\n",
    "        return iter(self.vertices.values())"
   ]
  },
  {
   "cell_type": "code",
   "execution_count": 12,
   "metadata": {},
   "outputs": [
    {
     "name": "stdout",
     "output_type": "stream",
     "text": [
      "A->B,A->G,A->C\n",
      "B->A,B->E\n",
      "C->A,C->D\n",
      "D->G,D->C\n",
      "E->F,E->B\n",
      "F->G,F->E\n",
      "G->A,G->D,G->F\n"
     ]
    }
   ],
   "source": [
    "graph = Graph()\n",
    "\n",
    "for vertex in 'ABCDEF':\n",
    "    graph.addVertex(vertex)\n",
    "graph.addEdge('A', 'B')\n",
    "graph.addEdge('A', 'G')\n",
    "graph.addEdge('A', 'C')\n",
    "graph.addEdge('B', 'E')\n",
    "graph.addEdge('C', 'D')\n",
    "graph.addEdge('D', 'G')\n",
    "graph.addEdge('E', 'F')\n",
    "graph.addEdge('G', 'F')\n",
    "for vertex in graph:\n",
    "    print(str(vertex))"
   ]
  },
  {
   "cell_type": "code",
   "execution_count": 13,
   "metadata": {},
   "outputs": [
    {
     "name": "stdout",
     "output_type": "stream",
     "text": [
      "Visiting vertex: A\n",
      "Checking edge from A to B\n",
      "Checking edge from A to G\n",
      "Checking edge from A to C\n",
      "Visiting vertex: B\n",
      "Checking edge from B to A\n",
      "Checking edge from B to E\n",
      "Visiting vertex: G\n",
      "Checking edge from G to A\n",
      "Checking edge from G to D\n",
      "Checking edge from G to F\n",
      "Visiting vertex: C\n",
      "Checking edge from C to A\n",
      "Checking edge from C to D\n",
      "Visiting vertex: E\n",
      "Checking edge from E to F\n",
      "Checking edge from E to B\n",
      "Visiting vertex: D\n",
      "Checking edge from D to G\n",
      "Checking edge from D to C\n",
      "Visiting vertex: F\n",
      "Checking edge from F to G\n",
      "Checking edge from F to E\n"
     ]
    },
    {
     "data": {
      "text/plain": [
       "['A', 'B', 'G', 'C', 'E', 'D', 'F']"
      ]
     },
     "execution_count": 13,
     "metadata": {},
     "output_type": "execute_result"
    }
   ],
   "source": [
    "from collections import deque\n",
    "\n",
    "def bfs(graph, start):\n",
    "    visited = set()\n",
    "    path = []\n",
    "    queue = deque()\n",
    "    queue.append(start)\n",
    "    while len(queue) != 0:\n",
    "        current = queue.pop()\n",
    "        if current.id in visited:\n",
    "            continue\n",
    "        path.append(current.id)\n",
    "        print(\"Visiting vertex: %s\" % str(current.id))\n",
    "        visited.add(current.id)\n",
    "        for vertice in current.getEdges():\n",
    "            print(\"Checking edge from %s to %s\" % (str(current.id), str(vertice.id)))\n",
    "            if vertice.id not in visited:\n",
    "                queue.appendleft(vertice)\n",
    "    return path            \n",
    "                \n",
    "bfs(graph, graph.getVertex('A'))                "
   ]
  },
  {
   "cell_type": "code",
   "execution_count": 7,
   "metadata": {},
   "outputs": [
    {
     "name": "stdout",
     "output_type": "stream",
     "text": [
      "Visiting vertex: A\n",
      "Checking edge from A to B\n",
      "Checking edge from A to G\n",
      "Checking edge from A to C\n",
      "Visiting vertex: C\n",
      "Checking edge from C to A\n",
      "Checking edge from C to D\n",
      "Visiting vertex: D\n",
      "Checking edge from D to G\n",
      "Checking edge from D to C\n",
      "Visiting vertex: G\n",
      "Checking edge from G to F\n",
      "Checking edge from G to A\n",
      "Checking edge from G to D\n",
      "Visiting vertex: F\n",
      "Checking edge from F to G\n",
      "Checking edge from F to E\n",
      "Visiting vertex: E\n",
      "Checking edge from E to B\n",
      "Checking edge from E to F\n",
      "Visiting vertex: B\n",
      "Checking edge from B to A\n",
      "Checking edge from B to E\n"
     ]
    },
    {
     "data": {
      "text/plain": [
       "['A', 'C', 'D', 'G', 'F', 'E', 'B']"
      ]
     },
     "execution_count": 7,
     "metadata": {},
     "output_type": "execute_result"
    }
   ],
   "source": [
    "from collections import deque\n",
    "\n",
    "def dfs(graph, start):\n",
    "    visited = set()\n",
    "    path = []\n",
    "    queue = deque()\n",
    "    queue.append(start)\n",
    "    while len(queue) != 0:\n",
    "        current = queue.pop()\n",
    "        if current.id in visited:\n",
    "            continue\n",
    "        path.append(current.id)\n",
    "        print(\"Visiting vertex: %s\" % str(current.id))\n",
    "        visited.add(current.id)\n",
    "        for vertice in current.getEdges():\n",
    "            print(\"Checking edge from %s to %s\" % (str(current.id), str(vertice.id)))\n",
    "            if vertice.id not in visited:\n",
    "                queue.append(vertice)\n",
    "    return path            \n",
    "                \n",
    "dfs(graph, graph.getVertex('A'))                "
   ]
  },
  {
   "cell_type": "code",
   "execution_count": null,
   "metadata": {},
   "outputs": [],
   "source": []
  }
 ],
 "metadata": {
  "kernelspec": {
   "display_name": "Python 3",
   "language": "python",
   "name": "python3"
  },
  "language_info": {
   "codemirror_mode": {
    "name": "ipython",
    "version": 3
   },
   "file_extension": ".py",
   "mimetype": "text/x-python",
   "name": "python",
   "nbconvert_exporter": "python",
   "pygments_lexer": "ipython3",
   "version": "3.6.5"
  }
 },
 "nbformat": 4,
 "nbformat_minor": 2
}
